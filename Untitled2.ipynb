{
 "cells": [
  {
   "cell_type": "code",
   "execution_count": 1,
   "metadata": {},
   "outputs": [],
   "source": [
    "# Inheratance\n"
   ]
  },
  {
   "cell_type": "code",
   "execution_count": 2,
   "metadata": {},
   "outputs": [],
   "source": [
    "class A:\n",
    "    pass\n",
    "class B(A):\n",
    "    pass\n",
    "\n",
    "obj = B()"
   ]
  },
  {
   "cell_type": "code",
   "execution_count": 4,
   "metadata": {},
   "outputs": [
    {
     "name": "stdout",
     "output_type": "stream",
     "text": [
      "Enter nameRam\n",
      "Enter address = Kathmandu\n",
      "Ram Kathmandu\n"
     ]
    }
   ],
   "source": [
    "class Info:\n",
    "    def __init__(self):\n",
    "        self.name = input(\"Enter name\")\n",
    "        self.add = input(\"Enter address = \")\n",
    "        \n",
    "class Data(Info):\n",
    "    def data(self):\n",
    "        print(self.name,self.add)\n",
    "        \n",
    "obj = Data()\n",
    "obj.data()"
   ]
  },
  {
   "cell_type": "code",
   "execution_count": 13,
   "metadata": {},
   "outputs": [
    {
     "name": "stdout",
     "output_type": "stream",
     "text": [
      "Enter nameram\n",
      "Enter address = Kathmandu\n",
      "Enter age34\n",
      "ram Kathmandu 34\n"
     ]
    }
   ],
   "source": [
    "class Info:\n",
    "    def __init__(self,name,add):\n",
    "        self.name = name\n",
    "        self.add = add\n",
    "        \n",
    "    def info(self):\n",
    "        print(self.name,self.add)\n",
    "        \n",
    "class Data(Info):\n",
    "    def __init__(self,name,add,age):\n",
    "        self.age = age\n",
    "        Info.__init__(self,name,add)\n",
    "        \n",
    "    def data(self):\n",
    "        print(self.name,self.add,self.age)\n",
    "\n",
    "name = input(\"Enter name\")\n",
    "add = input(\"Enter address = \")\n",
    "age = int(input(\"Enter age\"))\n",
    "\n",
    "obj = Data(name,add,age)\n",
    "obj.data()"
   ]
  },
  {
   "cell_type": "code",
   "execution_count": 14,
   "metadata": {},
   "outputs": [],
   "source": [
    "# types\n",
    "# multi level\n",
    "# multi class"
   ]
  },
  {
   "cell_type": "code",
   "execution_count": 15,
   "metadata": {},
   "outputs": [],
   "source": [
    "# multi level\n",
    "\n",
    "class A:\n",
    "    pass\n",
    "class B(A):\n",
    "    pass\n",
    "class C(B):\n",
    "    pass\n",
    "\n",
    "obj = C()"
   ]
  },
  {
   "cell_type": "code",
   "execution_count": null,
   "metadata": {},
   "outputs": [],
   "source": [
    "# multi class\n",
    "class A:\n",
    "    pass\n",
    "\n",
    "class B:\n",
    "    pass\n",
    "\n",
    "class C(A,B):\n",
    "    pass\n",
    "\n",
    "obj = C()"
   ]
  },
  {
   "cell_type": "code",
   "execution_count": 6,
   "metadata": {},
   "outputs": [
    {
     "name": "stdout",
     "output_type": "stream",
     "text": [
      "Ram\n",
      "23\n",
      "Kathmandu\n",
      "Hello world I am Ram. I am from Kathmandu I am 23\n"
     ]
    }
   ],
   "source": [
    "class A:\n",
    "    def __init__(self,add):\n",
    "        self.add = add\n",
    "\n",
    "class B(A):\n",
    "    def __init__(self,age,add):\n",
    "        self.age = age\n",
    "        A.__init__(self,add)\n",
    "\n",
    "class C(B):\n",
    "    def __init__(self,name,age,add):\n",
    "        self.name = name\n",
    "        B.__init__(self,age,add)\n",
    "#         self.age = age\n",
    "#         self.add = add\n",
    "    def info(self):\n",
    "        print(f\"Hello world I am {self.name}. I am from {self.add} I am {self.age}\")\n",
    "\n",
    "obj = C(\"Ram\",23,\"Kathmandu\")\n",
    "print(obj.name)\n",
    "print(obj.age)\n",
    "print(obj.add)\n",
    "obj.info()"
   ]
  },
  {
   "cell_type": "code",
   "execution_count": 9,
   "metadata": {},
   "outputs": [
    {
     "name": "stdout",
     "output_type": "stream",
     "text": [
      "Ram\n",
      "23\n",
      "Kathmandu\n",
      "Hello world I am Ram. I am from Kathmandu I am 23\n"
     ]
    }
   ],
   "source": [
    "class A:\n",
    "    def __init__(self,add):\n",
    "        self.add = add\n",
    "\n",
    "class B:\n",
    "    def __init__(self,age):\n",
    "        self.age = age\n",
    "\n",
    "class C(A,B):\n",
    "    def __init__(self,name,age,add):\n",
    "        self.name = name\n",
    "        B.__init__(self,age)\n",
    "        A.__init__(self,add)\n",
    "#         self.age = age\n",
    "#         self.add = add\n",
    "    def info(self):\n",
    "        print(f\"Hello world I am {self.name}. I am from {self.add} I am {self.age}\")\n",
    "\n",
    "obj = C(\"Ram\",23,\"Kathmandu\")\n",
    "print(obj.name)\n",
    "print(obj.age)\n",
    "print(obj.add)\n",
    "obj.info()"
   ]
  },
  {
   "cell_type": "code",
   "execution_count": 21,
   "metadata": {},
   "outputs": [
    {
     "name": "stdout",
     "output_type": "stream",
     "text": [
      "Ram\n",
      "23\n",
      "Kathmandu\n",
      "Hello world I am Ram\n",
      " I am from Kathmandu.\n",
      "I am 23\n"
     ]
    }
   ],
   "source": [
    "class A:\n",
    "    def __init__(self,add):\n",
    "        self.add = add\n",
    "    def my_add(self):\n",
    "        return f\" I am from {self.add}.\"\n",
    "class B:\n",
    "    def __init__(self,age):\n",
    "        self.age = age\n",
    "    def my_age(self):\n",
    "        return f\"I am {self.age}\"\n",
    "\n",
    "class C(A,B):\n",
    "    def __init__(self,name,age,add):\n",
    "        self.name = name\n",
    "        B.__init__(self,age)\n",
    "        A.__init__(self,add)\n",
    "#         self.age = age\n",
    "#         self.add = add\n",
    "    def info(self):\n",
    "        print(f\"Hello world I am {self.name}\")\n",
    "        print(super().my_add())\n",
    "        print(super().my_age())\n",
    "\n",
    "obj = C(\"Ram\",23,\"Kathmandu\")\n",
    "print(obj.name)\n",
    "print(obj.age)\n",
    "print(obj.add)\n",
    "obj.info()"
   ]
  },
  {
   "cell_type": "code",
   "execution_count": 22,
   "metadata": {},
   "outputs": [
    {
     "name": "stdout",
     "output_type": "stream",
     "text": [
      "Ram 34 Kathmandu\n"
     ]
    }
   ],
   "source": [
    "# Public memers\n",
    "class Info:\n",
    "    def __init__(self,name,age,add):\n",
    "        self.name = name\n",
    "        self.age = age\n",
    "        self.add = add\n",
    "        \n",
    "obj = Info(\"Ram\",34,\"Kathmandu\")\n",
    "print(obj.name,obj.age,obj.add)"
   ]
  },
  {
   "cell_type": "code",
   "execution_count": 24,
   "metadata": {},
   "outputs": [
    {
     "name": "stdout",
     "output_type": "stream",
     "text": [
      "Ram 34 Kathmandu\n"
     ]
    }
   ],
   "source": [
    "# Protected memers\n",
    "class Info:\n",
    "    def __init__(self,name,age,add):\n",
    "        self._name = name\n",
    "        self._age = age\n",
    "        self._add = add\n",
    "        \n",
    "obj = Info(\"Ram\",34,\"Kathmandu\")\n",
    "# print(obj.name,obj.age,obj.add)\n",
    "print(obj._name,obj._age,obj._add)"
   ]
  },
  {
   "cell_type": "code",
   "execution_count": 25,
   "metadata": {},
   "outputs": [
    {
     "ename": "AttributeError",
     "evalue": "'Info' object has no attribute '__name'",
     "output_type": "error",
     "traceback": [
      "\u001b[1;31m---------------------------------------------------------------------------\u001b[0m",
      "\u001b[1;31mAttributeError\u001b[0m                            Traceback (most recent call last)",
      "\u001b[1;32m~\\AppData\\Local\\Temp/ipykernel_204/1732676429.py\u001b[0m in \u001b[0;36m<module>\u001b[1;34m\u001b[0m\n\u001b[0;32m      8\u001b[0m \u001b[0mobj\u001b[0m \u001b[1;33m=\u001b[0m \u001b[0mInfo\u001b[0m\u001b[1;33m(\u001b[0m\u001b[1;34m\"Ram\"\u001b[0m\u001b[1;33m,\u001b[0m\u001b[1;36m34\u001b[0m\u001b[1;33m,\u001b[0m\u001b[1;34m\"Kathmandu\"\u001b[0m\u001b[1;33m)\u001b[0m\u001b[1;33m\u001b[0m\u001b[1;33m\u001b[0m\u001b[0m\n\u001b[0;32m      9\u001b[0m \u001b[1;31m# print(obj.name,obj.age,obj.add)\u001b[0m\u001b[1;33m\u001b[0m\u001b[1;33m\u001b[0m\u001b[1;33m\u001b[0m\u001b[0m\n\u001b[1;32m---> 10\u001b[1;33m \u001b[0mprint\u001b[0m\u001b[1;33m(\u001b[0m\u001b[0mobj\u001b[0m\u001b[1;33m.\u001b[0m\u001b[0m__name\u001b[0m\u001b[1;33m,\u001b[0m\u001b[0mobj\u001b[0m\u001b[1;33m.\u001b[0m\u001b[0m__age\u001b[0m\u001b[1;33m,\u001b[0m\u001b[0mobj\u001b[0m\u001b[1;33m.\u001b[0m\u001b[0m__add\u001b[0m\u001b[1;33m)\u001b[0m\u001b[1;33m\u001b[0m\u001b[1;33m\u001b[0m\u001b[0m\n\u001b[0m",
      "\u001b[1;31mAttributeError\u001b[0m: 'Info' object has no attribute '__name'"
     ]
    }
   ],
   "source": [
    "# Private memers\n",
    "class Info:\n",
    "    def __init__(self,name,age,add):\n",
    "        self.__name = name\n",
    "        self.__age = age\n",
    "        self.__add = add\n",
    "        \n",
    "obj = Info(\"Ram\",34,\"Kathmandu\")\n",
    "# print(obj.name,obj.age,obj.add)\n",
    "print(obj.__name,obj.__age,obj.__add)"
   ]
  },
  {
   "cell_type": "code",
   "execution_count": 26,
   "metadata": {},
   "outputs": [
    {
     "name": "stdout",
     "output_type": "stream",
     "text": [
      "Ram 34 Kathmandu\n"
     ]
    }
   ],
   "source": [
    "# Private memers\n",
    "class Info:\n",
    "    def __init__(self,name,age,add):\n",
    "        self.__name = name\n",
    "        self.__age = age\n",
    "        self.__add = add\n",
    "        \n",
    "obj = Info(\"Ram\",34,\"Kathmandu\")\n",
    "# print(obj.name,obj.age,obj.add)\n",
    "print(obj._Info__name,obj._Info__age,obj._Info__add)"
   ]
  },
  {
   "cell_type": "code",
   "execution_count": null,
   "metadata": {},
   "outputs": [],
   "source": [
    "class Info:\n",
    "    def __init__(self,name,add):\n",
    "        self._name = name\n",
    "        self.__add = add\n",
    "        \n",
    "    def info(self):\n",
    "        print(self._name,self.__add)\n",
    "        \n",
    "class Data(Info):\n",
    "    def __init__(self,name,add,age):\n",
    "        self.age = age\n",
    "        Info.__init__(self,name,add)\n",
    "        \n",
    "    def data(self):\n",
    "        print(self._name,self.age)\n",
    "\n",
    "name = input(\"Enter name\")\n",
    "add = input(\"Enter address = \")\n",
    "age = int(input(\"Enter age\"))\n",
    "\n",
    "obj = Data(name,add,age)\n",
    "obj.data()"
   ]
  }
 ],
 "metadata": {
  "kernelspec": {
   "display_name": "Python 3 (ipykernel)",
   "language": "python",
   "name": "python3"
  },
  "language_info": {
   "codemirror_mode": {
    "name": "ipython",
    "version": 3
   },
   "file_extension": ".py",
   "mimetype": "text/x-python",
   "name": "python",
   "nbconvert_exporter": "python",
   "pygments_lexer": "ipython3",
   "version": "3.7.1"
  }
 },
 "nbformat": 4,
 "nbformat_minor": 2
}
