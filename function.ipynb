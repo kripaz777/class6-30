{
 "cells": [
  {
   "cell_type": "code",
   "execution_count": 1,
   "metadata": {},
   "outputs": [],
   "source": [
    "# # function\n",
    "# input()\n",
    "# int()\n",
    "# str()\n",
    "# float()\n",
    "# print()"
   ]
  },
  {
   "cell_type": "code",
   "execution_count": 4,
   "metadata": {},
   "outputs": [],
   "source": [
    "# def <function_name>():\n",
    "#     <operations>\n",
    "    \n",
    "# <function_name>()\n"
   ]
  },
  {
   "cell_type": "code",
   "execution_count": 6,
   "metadata": {},
   "outputs": [
    {
     "name": "stdout",
     "output_type": "stream",
     "text": [
      "Hello World\n"
     ]
    }
   ],
   "source": [
    "def hello():\n",
    "    print(\"Hello World\")\n",
    "    \n",
    "hello()"
   ]
  },
  {
   "cell_type": "code",
   "execution_count": 10,
   "metadata": {},
   "outputs": [
    {
     "name": "stdout",
     "output_type": "stream",
     "text": [
      "50\n"
     ]
    }
   ],
   "source": [
    "def cal():\n",
    "    l = 10       #local variable\n",
    "    b = 5        #local variable\n",
    "    a = l*b      #local variable\n",
    "    print(a)\n",
    "    \n",
    "cal()"
   ]
  },
  {
   "cell_type": "code",
   "execution_count": 11,
   "metadata": {},
   "outputs": [
    {
     "name": "stdout",
     "output_type": "stream",
     "text": [
      "50\n"
     ]
    }
   ],
   "source": [
    "l = 10          #global\n",
    "b = 5           #global\n",
    "def cal():       \n",
    "    a = l*b      \n",
    "    print(a)\n",
    "    \n",
    "cal()"
   ]
  },
  {
   "cell_type": "code",
   "execution_count": 1,
   "metadata": {},
   "outputs": [
    {
     "name": "stdout",
     "output_type": "stream",
     "text": [
      "50\n",
      "10 5\n"
     ]
    }
   ],
   "source": [
    "def cal():\n",
    "    global l,b\n",
    "    l = 10       #global variable\n",
    "    b = 5        #global variable\n",
    "    a = l*b      #global variable\n",
    "    print(a)\n",
    "    \n",
    "cal()\n",
    "print(l,b)"
   ]
  },
  {
   "cell_type": "code",
   "execution_count": 14,
   "metadata": {},
   "outputs": [
    {
     "name": "stdout",
     "output_type": "stream",
     "text": [
      "50\n",
      "4 5\n"
     ]
    }
   ],
   "source": [
    "l = 4\n",
    "b = 5\n",
    "def cal():\n",
    "    l = 10       #local variable\n",
    "    b = 5        #local variable\n",
    "    a = l*b      #local variable\n",
    "    print(a)\n",
    "    \n",
    "cal()\n",
    "print(l,b)"
   ]
  },
  {
   "cell_type": "code",
   "execution_count": 15,
   "metadata": {},
   "outputs": [],
   "source": [
    "# argument\n",
    "# return type"
   ]
  },
  {
   "cell_type": "code",
   "execution_count": null,
   "metadata": {},
   "outputs": [],
   "source": [
    "# function with argument and return type\n",
    "# function with argument and no return type\n",
    "# function with no argument and return type\n",
    "# function with no argument and no return type"
   ]
  },
  {
   "cell_type": "code",
   "execution_count": null,
   "metadata": {},
   "outputs": [],
   "source": [
    "# function with no argument and no return type\n",
    "def cal():\n",
    "    p = int(input(\"Enter p = \"))\n",
    "    t = float(input(\"Enter t = \"))\n",
    "    r = float(input(\"Enter r = \"))\n",
    "    \n",
    "    i = p*t*r/100\n",
    "    print(i)\n",
    "    \n",
    "cal()"
   ]
  },
  {
   "cell_type": "code",
   "execution_count": 17,
   "metadata": {},
   "outputs": [
    {
     "name": "stdout",
     "output_type": "stream",
     "text": [
      "The history saving thread hit an unexpected error (OperationalError('database or disk is full')).History will not be written to the database.\n",
      "Enter p = 1000\n",
      "Enter t = 2\n",
      "Enter r = 3\n",
      "60.0\n"
     ]
    }
   ],
   "source": [
    "# function with argument and no return type\n",
    "def cal(x,y,z):\n",
    "    i = x*y*z/100\n",
    "    print(i)\n",
    "  \n",
    "p = int(input(\"Enter p = \"))\n",
    "t = float(input(\"Enter t = \"))\n",
    "r = float(input(\"Enter r = \"))\n",
    "                \n",
    "cal(p,t,r)"
   ]
  },
  {
   "cell_type": "code",
   "execution_count": null,
   "metadata": {},
   "outputs": [],
   "source": [
    "# function with argument and no return type\n",
    "p = int(input(\"Enter p = \"))\n",
    "t = float(input(\"Enter t = \"))\n",
    "r = float(input(\"Enter r = \")) \n",
    "\n",
    "def cal(x,y,z):\n",
    "    i = x*y*z/100\n",
    "    print(i)\n",
    "                \n",
    "cal(p,t,r)"
   ]
  },
  {
   "cell_type": "code",
   "execution_count": 18,
   "metadata": {},
   "outputs": [
    {
     "name": "stdout",
     "output_type": "stream",
     "text": [
      "PHP\n",
      "C\n",
      "C++\n",
      "Java\n",
      "Python\n"
     ]
    }
   ],
   "source": [
    "def language(lan = \"Python\"):\n",
    "    print(lan)\n",
    "    \n",
    "language(\"PHP\")\n",
    "language(\"C\")\n",
    "language(\"C++\")\n",
    "language(\"Java\")\n",
    "language()"
   ]
  },
  {
   "cell_type": "code",
   "execution_count": 1,
   "metadata": {},
   "outputs": [
    {
     "name": "stdout",
     "output_type": "stream",
     "text": [
      "8\n"
     ]
    }
   ],
   "source": [
    "def cal(x,y,z):\n",
    "    v = x*y*z\n",
    "    print(v)\n",
    "\n",
    "l = 4\n",
    "b = 2\n",
    "h = 1\n",
    "cal(l,b,h)"
   ]
  },
  {
   "cell_type": "code",
   "execution_count": 3,
   "metadata": {},
   "outputs": [
    {
     "name": "stdout",
     "output_type": "stream",
     "text": [
      "8\n",
      "6\n"
     ]
    }
   ],
   "source": [
    "l = 4\n",
    "b = 2\n",
    "h = 1\n",
    "def cal(x,y,z):\n",
    "    v = x*y*z\n",
    "    print(v)\n",
    "    \n",
    "cal(l,b,h)\n",
    "\n",
    "\n",
    "l = 3\n",
    "b = 2\n",
    "h = 1\n",
    "cal(l,b,h)"
   ]
  },
  {
   "cell_type": "code",
   "execution_count": 6,
   "metadata": {},
   "outputs": [
    {
     "name": "stdout",
     "output_type": "stream",
     "text": [
      "Enter n = 2\n",
      "Enter l = 100\n",
      "Enter b = 40\n",
      "Enter h = 5\n",
      "20000\n",
      "Enter l = 200\n",
      "Enter b = 40\n",
      "Enter h = 5\n",
      "40000\n"
     ]
    }
   ],
   "source": [
    "def cal(x,y,z):\n",
    "    v = x*y*z\n",
    "    print(v)\n",
    "    \n",
    "    \n",
    "n = int(input(\"Enter n = \"))\n",
    "for i in range(n):\n",
    "    x = int(input(\"Enter l = \"))\n",
    "    y = int(input(\"Enter b = \"))\n",
    "    z = int(input(\"Enter h = \"))\n",
    "    cal(x,y,z)"
   ]
  },
  {
   "cell_type": "code",
   "execution_count": 2,
   "metadata": {},
   "outputs": [
    {
     "name": "stdout",
     "output_type": "stream",
     "text": [
      "Enter n = 2\n",
      "Enter a = 10\n",
      "Enter b = 2\n",
      "Enter + - * /   +\n",
      "Enter a = 100\n",
      "Enter b = 50\n",
      "Enter + - * /   /\n",
      "2.0\n"
     ]
    }
   ],
   "source": [
    "def cal(a,b,o):\n",
    "    if o == \"+\":\n",
    "        print(a+b)\n",
    "    elif o == \"-\":\n",
    "        print(a-b)\n",
    "    elif o == \"*\":\n",
    "        print(a*b)\n",
    "    elif o == \"/\":\n",
    "        print(a/b)\n",
    "    else:\n",
    "        print(\"Invalid\")\n",
    "n = int(input(\"Enter n = \"))\n",
    "for i in range(n):\n",
    "    a = int(input(\"Enter a = \"))\n",
    "    b = int(input(\"Enter b = \"))\n",
    "    o = input(\"Enter + - * /   \")\n",
    "cal(a,b,o)"
   ]
  },
  {
   "cell_type": "code",
   "execution_count": null,
   "metadata": {},
   "outputs": [],
   "source": [
    "def add(a,b):\n",
    "    print(a+b)\n",
    "def sub(a,b):\n",
    "    print(a-b)\n",
    "def mul(a,b):\n",
    "    print(a*b)\n",
    "def div(a,b):\n",
    "    print(a/b)\n",
    "a = int(input(\"Enter a = \"))\n",
    "b = int(input(\"Enter b = \"))\n",
    "o = input(\"Enter + - * /   \")\n",
    "if o == \"+\":\n",
    "    add(a,b)\n",
    "elif o == \"-\":\n",
    "    sub(a,b)\n",
    "elif o == \"*\":\n",
    "    mul(a,b)\n",
    "elif o == \"/\":\n",
    "    div(a,b)\n",
    "else:\n",
    "    print(\"Invalid\")"
   ]
  },
  {
   "cell_type": "code",
   "execution_count": 2,
   "metadata": {},
   "outputs": [
    {
     "name": "stdout",
     "output_type": "stream",
     "text": [
      "hello World\n"
     ]
    }
   ],
   "source": [
    "def hello():\n",
    "    x = \"hello World\"\n",
    "    return x\n",
    "\n",
    "print(hello())"
   ]
  },
  {
   "cell_type": "code",
   "execution_count": 3,
   "metadata": {},
   "outputs": [
    {
     "name": "stdout",
     "output_type": "stream",
     "text": [
      "Enter l = 100\n",
      "Enter b = 34\n"
     ]
    }
   ],
   "source": [
    "#function with no argument and return type\n",
    "def cal():\n",
    "    l = int(input(\"Enter l = \"))\n",
    "    b = int(input(\"Enter b = \"))\n",
    "    a = l*b\n",
    "    return a\n",
    "\n",
    "area = cal()\n",
    "print(area)\n",
    "\n",
    "h = 10\n",
    "v = area*h\n",
    "print(v)\n",
    "\n",
    "# v = cal()*h"
   ]
  },
  {
   "cell_type": "code",
   "execution_count": null,
   "metadata": {},
   "outputs": [],
   "source": [
    "#function with argument and return type\n",
    "\n",
    "def cal(l,b):\n",
    "    \n",
    "    a = l*b\n",
    "    return a\n",
    "\n",
    "l = int(input(\"Enter l = \"))\n",
    "b = int(input(\"Enter b = \"))\n",
    "\n",
    "area = cal(l,b)\n",
    "print(area)"
   ]
  },
  {
   "cell_type": "code",
   "execution_count": 2,
   "metadata": {},
   "outputs": [
    {
     "name": "stdout",
     "output_type": "stream",
     "text": [
      "Enter l = 100\n",
      "Enter b = 2\n",
      "Enter h = 3\n",
      "600\n"
     ]
    }
   ],
   "source": [
    "def area(l,b):\n",
    "    a = l*b\n",
    "    return a\n",
    "def volume(l,b,h):\n",
    "    v = area(l,b)*h\n",
    "    return v\n",
    "l = int(input(\"Enter l = \"))\n",
    "b = int(input(\"Enter b = \"))\n",
    "h = int(input(\"Enter h = \"))\n",
    "\n",
    "print(volume(l,b,h))"
   ]
  },
  {
   "cell_type": "code",
   "execution_count": 4,
   "metadata": {},
   "outputs": [
    {
     "name": "stdout",
     "output_type": "stream",
     "text": [
      "Enter h = 10\n",
      "Enter l = 100\n",
      "Enter b = 45\n",
      "45000\n"
     ]
    }
   ],
   "source": [
    "def area():\n",
    "    l = int(input(\"Enter l = \"))\n",
    "    b = int(input(\"Enter b = \"))\n",
    "    a = l*b\n",
    "    return a\n",
    "\n",
    "def volume(h):\n",
    "    v = area()*h\n",
    "    return v\n",
    "\n",
    "h = int(input(\"Enter h = \"))\n",
    "# print(area(l,b))\n",
    "print(volume(h))"
   ]
  },
  {
   "cell_type": "code",
   "execution_count": 5,
   "metadata": {},
   "outputs": [
    {
     "name": "stdout",
     "output_type": "stream",
     "text": [
      "('hello', 'world')\n"
     ]
    }
   ],
   "source": [
    "def hello():\n",
    "    return \"hello\",\"world\"\n",
    "\n",
    "print(hello())"
   ]
  },
  {
   "cell_type": "code",
   "execution_count": 8,
   "metadata": {},
   "outputs": [
    {
     "name": "stdout",
     "output_type": "stream",
     "text": [
      "The area is =  100\n",
      "The volume is =  1000\n"
     ]
    }
   ],
   "source": [
    "def cal():\n",
    "    a = 100\n",
    "    v = 1000\n",
    "    return a,v\n",
    "\n",
    "area,volume = cal()\n",
    "print(\"The area is = \",area)\n",
    "print(\"The volume is = \",volume)"
   ]
  },
  {
   "cell_type": "code",
   "execution_count": null,
   "metadata": {},
   "outputs": [],
   "source": [
    "def add(a,b):\n",
    "    return a+b\n",
    "def sub(a,b):\n",
    "    return a-b\n",
    "def mul(a,b):\n",
    "    return a*b\n",
    "def div(a,b):\n",
    "    return a/b\n",
    "a = int(input(\"Enter a = \"))\n",
    "b = int(input(\"Enter b = \"))\n",
    "o = input(\"Enter + - * /   \")\n",
    "if o == \"+\":\n",
    "    print(add(a,b))\n",
    "elif o == \"-\":\n",
    "    print(sub(a,b))\n",
    "elif o == \"*\":\n",
    "    print(mul(a,b))\n",
    "elif o == \"/\" and b!=0:\n",
    "    print(div(a,b))\n",
    "elif o == \"/\" and b==0:\n",
    "    print(\"The value of b can not be zero.\")\n",
    "else:\n",
    "    print(\"Invalid\")"
   ]
  }
 ],
 "metadata": {
  "kernelspec": {
   "display_name": "Python 3 (ipykernel)",
   "language": "python",
   "name": "python3"
  },
  "language_info": {
   "codemirror_mode": {
    "name": "ipython",
    "version": 3
   },
   "file_extension": ".py",
   "mimetype": "text/x-python",
   "name": "python",
   "nbconvert_exporter": "python",
   "pygments_lexer": "ipython3",
   "version": "3.7.1"
  }
 },
 "nbformat": 4,
 "nbformat_minor": 2
}
