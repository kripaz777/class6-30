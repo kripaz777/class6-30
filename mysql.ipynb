{
 "cells": [
  {
   "cell_type": "code",
   "execution_count": 17,
   "metadata": {},
   "outputs": [],
   "source": [
    "import mysql.connector \n",
    "#importing database\n",
    "database = mysql.connector.connect(\n",
    "    host=\"localhost\",\n",
    "    user=\"root\",\n",
    "    password=\"\",\n",
    "  database = \"class6:30am\"\n",
    ")\n",
    "db = database.cursor()"
   ]
  },
  {
   "cell_type": "code",
   "execution_count": 3,
   "metadata": {},
   "outputs": [
    {
     "name": "stdout",
     "output_type": "stream",
     "text": [
      "(1, 'Ram', 78, 89, 78, 90, 72, 412, 80, 'A')\n",
      "(2, 'Shyam', 78, 89, 95, 67, 80, 420, 80, 'A')\n"
     ]
    }
   ],
   "source": [
    "db.execute(\"SELECT * FROM student\")\n",
    "result =db.fetchall()\n",
    "for x in result:\n",
    "    print(x)\n"
   ]
  },
  {
   "cell_type": "code",
   "execution_count": 4,
   "metadata": {},
   "outputs": [
    {
     "name": "stdout",
     "output_type": "stream",
     "text": [
      "('Ram', 'A')\n",
      "('Shyam', 'A')\n"
     ]
    }
   ],
   "source": [
    "db.execute(\"SELECT name,grade FROM student\")\n",
    "result =db.fetchall()\n",
    "for x in result:\n",
    "    print(x)"
   ]
  },
  {
   "cell_type": "code",
   "execution_count": 5,
   "metadata": {},
   "outputs": [],
   "source": [
    "sql = \"INSERT INTO student (name,physics,chemistry,math,english,nepali,total,per,grade) VALUES('Sumit',56,78,56,89,67,350,65,'B')\"\n",
    "db.execute(sql)\n",
    "database.commit()"
   ]
  },
  {
   "cell_type": "code",
   "execution_count": 7,
   "metadata": {},
   "outputs": [
    {
     "name": "stdout",
     "output_type": "stream",
     "text": [
      "Enter n = 1\n",
      "Enter name = Nabin\n",
      "Enter physics = 89\n",
      "Enter chemistry = 87\n",
      "Enter math = 90\n",
      "Enter english = 67\n",
      "Enter nepali = 56\n"
     ]
    }
   ],
   "source": [
    "n = int(input(\"Enter n = \"))\n",
    "for i in range(n):\n",
    "    name = input(\"Enter name = \")\n",
    "    physics = int(input(\"Enter physics = \"))\n",
    "    chemistry = int(input(\"Enter chemistry = \"))\n",
    "    math = int(input(\"Enter math = \"))\n",
    "    english = int(input(\"Enter english = \"))\n",
    "    nepali = int(input(\"Enter nepali = \"))\n",
    "    total = sum([physics,chemistry,math,english,nepali])\n",
    "    per = total/5\n",
    "    if per > 80:\n",
    "        grade = \"A\"\n",
    "    elif per > 60:\n",
    "        grade = \"B\"\n",
    "    elif per > 45:\n",
    "        grade = \"C\"\n",
    "    else:\n",
    "        grade = \"F\"\n",
    "    \n",
    "    sql = f\"INSERT INTO student (name,physics,chemistry,math,english,nepali,total,per,grade) VALUES('{name}',{physics},{chemistry},{math},{english},{nepali},{total},{per},'{grade}')\"\n",
    "    \n",
    "    db.execute(sql)\n",
    "    \n",
    "database.commit()"
   ]
  },
  {
   "cell_type": "code",
   "execution_count": 8,
   "metadata": {},
   "outputs": [
    {
     "name": "stdout",
     "output_type": "stream",
     "text": [
      "INSERT INTO student (name,physics,chemistry,math,english,nepali,total,per,grade) VALUES('Nabin',89,87,90,67,56,389,77.8,'B')\n"
     ]
    }
   ],
   "source": [
    "print(sql)"
   ]
  },
  {
   "cell_type": "code",
   "execution_count": 10,
   "metadata": {},
   "outputs": [
    {
     "name": "stdout",
     "output_type": "stream",
     "text": [
      "(1, 'Ram', 78, 89, 78, 90, 72, 412, 80, 'A')\n",
      "(2, 'Shyam', 78, 89, 95, 67, 80, 420, 80, 'A')\n"
     ]
    }
   ],
   "source": [
    "db.execute(\"SELECT * FROM student WHERE grade = 'A' \")\n",
    "result =db.fetchall()\n",
    "for x in result:\n",
    "    print(x)"
   ]
  },
  {
   "cell_type": "code",
   "execution_count": 15,
   "metadata": {},
   "outputs": [
    {
     "name": "stdout",
     "output_type": "stream",
     "text": [
      "(1, 'Ram', 78, 89, 78, 90, 72, 412, 80, 'A')\n",
      "(2, 'Shyam', 78, 89, 95, 67, 80, 420, 80, 'A')\n",
      "(3, 'Sumit', 56, 78, 56, 89, 67, 350, 65, 'B')\n",
      "(4, 'Nabin', 89, 87, 90, 67, 56, 389, 78, 'B')\n"
     ]
    }
   ],
   "source": [
    "db.execute(\"SELECT * FROM student WHERE physics > 80  or chemistry > 70\")\n",
    "result =db.fetchall()\n",
    "for x in result:\n",
    "    print(x)"
   ]
  },
  {
   "cell_type": "code",
   "execution_count": 18,
   "metadata": {},
   "outputs": [
    {
     "name": "stdout",
     "output_type": "stream",
     "text": [
      "(2, 'Shyam', 78, 89, 95, 67, 80, 420, 80, 'A', 'I am python developer')\n"
     ]
    }
   ],
   "source": [
    "db.execute(\"SELECT * FROM student WHERE bio LIKE '%python%' \")\n",
    "result =db.fetchall()\n",
    "for x in result:\n",
    "    print(x)"
   ]
  },
  {
   "cell_type": "code",
   "execution_count": null,
   "metadata": {},
   "outputs": [],
   "source": [
    "search = input(\"Enter data = \")\n",
    "db.execute(f\"SELECT * FROM student WHERE bio LIKE '%{search}%' \")\n",
    "result =db.fetchall()\n",
    "for x in result:\n",
    "    print(x)"
   ]
  },
  {
   "cell_type": "code",
   "execution_count": 19,
   "metadata": {},
   "outputs": [],
   "source": [
    "sql = \"DELETE FROM student WHERE sn = 4\"\n",
    "db.execute(sql)\n",
    "database.commit()"
   ]
  },
  {
   "cell_type": "code",
   "execution_count": null,
   "metadata": {},
   "outputs": [],
   "source": []
  }
 ],
 "metadata": {
  "kernelspec": {
   "display_name": "Python 3 (ipykernel)",
   "language": "python",
   "name": "python3"
  },
  "language_info": {
   "codemirror_mode": {
    "name": "ipython",
    "version": 3
   },
   "file_extension": ".py",
   "mimetype": "text/x-python",
   "name": "python",
   "nbconvert_exporter": "python",
   "pygments_lexer": "ipython3",
   "version": "3.7.1"
  }
 },
 "nbformat": 4,
 "nbformat_minor": 2
}
