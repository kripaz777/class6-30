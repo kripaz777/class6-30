{
 "cells": [
  {
   "cell_type": "code",
   "execution_count": 1,
   "metadata": {},
   "outputs": [
    {
     "name": "stdout",
     "output_type": "stream",
     "text": [
      "<class 'str'>\n"
     ]
    }
   ],
   "source": [
    "a = \"Hello World\"\n",
    "print(type(a))"
   ]
  },
  {
   "cell_type": "code",
   "execution_count": 2,
   "metadata": {},
   "outputs": [
    {
     "name": "stdout",
     "output_type": "stream",
     "text": [
      "Hello World\n"
     ]
    }
   ],
   "source": [
    "a = \"Hello \"\n",
    "b = \"World\"\n",
    "c = a+b\n",
    "print(c)"
   ]
  },
  {
   "cell_type": "code",
   "execution_count": 4,
   "metadata": {},
   "outputs": [
    {
     "name": "stdout",
     "output_type": "stream",
     "text": [
      "Hello World\n",
      "Hello World\n",
      "\n"
     ]
    }
   ],
   "source": [
    "a = \"Hello World\\n\"\n",
    "print(a*2)"
   ]
  },
  {
   "cell_type": "code",
   "execution_count": 8,
   "metadata": {},
   "outputs": [
    {
     "data": {
      "text/plain": [
       "'W'"
      ]
     },
     "execution_count": 8,
     "metadata": {},
     "output_type": "execute_result"
    }
   ],
   "source": [
    "a = \"Hello World\"\n",
    "a[6]"
   ]
  },
  {
   "cell_type": "code",
   "execution_count": 9,
   "metadata": {},
   "outputs": [
    {
     "data": {
      "text/plain": [
       "'d'"
      ]
     },
     "execution_count": 9,
     "metadata": {},
     "output_type": "execute_result"
    }
   ],
   "source": [
    "a = \"Hello World\"\n",
    "a[-1]"
   ]
  },
  {
   "cell_type": "code",
   "execution_count": 11,
   "metadata": {},
   "outputs": [
    {
     "name": "stdout",
     "output_type": "stream",
     "text": [
      "Hello\n",
      " World\n"
     ]
    }
   ],
   "source": [
    "a = \"Hello World\"\n",
    "print(a[0:5])\n",
    "print(a[5:])"
   ]
  },
  {
   "cell_type": "code",
   "execution_count": 13,
   "metadata": {},
   "outputs": [
    {
     "data": {
      "text/plain": [
       "'HloWrd'"
      ]
     },
     "execution_count": 13,
     "metadata": {},
     "output_type": "execute_result"
    }
   ],
   "source": [
    "a = \"Hello World\"\n",
    "a[0:12:2]"
   ]
  },
  {
   "cell_type": "code",
   "execution_count": 25,
   "metadata": {},
   "outputs": [
    {
     "name": "stdout",
     "output_type": "stream",
     "text": [
      "dlroW olleH\n"
     ]
    }
   ],
   "source": [
    "a = \"Hello World\"\n",
    "\n",
    "l = len(a)\n",
    "print(a[l::-1])"
   ]
  },
  {
   "cell_type": "code",
   "execution_count": null,
   "metadata": {},
   "outputs": [],
   "source": []
  },
  {
   "cell_type": "code",
   "execution_count": null,
   "metadata": {},
   "outputs": [],
   "source": [
    "a = \"Hello World\"\n",
    "b = a[0:5]\n",
    "c = a[5:]"
   ]
  },
  {
   "cell_type": "code",
   "execution_count": null,
   "metadata": {},
   "outputs": [],
   "source": [
    "name = input(\"Enter name = \")\n",
    "age = int(input(\"Enter age = \"))\n",
    "add = input(\"Enter address = \")\n",
    "info = \"Hello World I am \" + name + \" I am \" + str(age) + \" I am from \"+add\n",
    "print(info)"
   ]
  },
  {
   "cell_type": "code",
   "execution_count": 30,
   "metadata": {},
   "outputs": [
    {
     "name": "stdout",
     "output_type": "stream",
     "text": [
      "Hello  World 10\n"
     ]
    }
   ],
   "source": [
    "#string formatting\n",
    "a = \"Hello \"\n",
    "b = \"World\"\n",
    "d = 10\n",
    "c = f\"{a} {b} {d}\"\n",
    "print(c)"
   ]
  },
  {
   "cell_type": "code",
   "execution_count": 31,
   "metadata": {},
   "outputs": [
    {
     "name": "stdout",
     "output_type": "stream",
     "text": [
      "Enter name = Ram\n",
      "Enter age = 34\n",
      "Enter address = Kathmandu\n",
      "Hello World I am Ram I am 34 I am from Kathmandu\n"
     ]
    }
   ],
   "source": [
    "name = input(\"Enter name = \")\n",
    "age = int(input(\"Enter age = \"))\n",
    "add = input(\"Enter address = \")\n",
    "info = f\"Hello World I am {name} I am {age} I am from {add}\"\n",
    "print(info)"
   ]
  },
  {
   "cell_type": "code",
   "execution_count": 33,
   "metadata": {},
   "outputs": [
    {
     "name": "stdout",
     "output_type": "stream",
     "text": [
      "Enter n = 2\n",
      "Name Price Quantity Total\n",
      "Enter name = Momo\n",
      "Enter price = 100\n",
      "Enter quantity = 1\n",
      "Enter name = Coke\n",
      "Enter price = 50\n",
      "Enter quantity = 1\n",
      "Momo 100 1 100\n",
      "Coke 50 1 50\n",
      "\n"
     ]
    }
   ],
   "source": [
    "bill = str()\n",
    "n = int(input(\"Enter n = \"))\n",
    "for i in range(n):\n",
    "    name = input(\"Enter name = \")\n",
    "    price = int(input(\"Enter price = \"))\n",
    "    quantity = int(input(\"Enter quantity = \"))\n",
    "    total = price*quantity\n",
    "    data = f\"{name} {price} {quantity} {total}\\n\"\n",
    "    bill = bill +data\n",
    "print(\"Name\",\"Price\",\"Quantity\",\"Total\")\n",
    "print(bill)"
   ]
  },
  {
   "cell_type": "code",
   "execution_count": 40,
   "metadata": {},
   "outputs": [
    {
     "name": "stdout",
     "output_type": "stream",
     "text": [
      "Enter name = ram\n",
      "No\n"
     ]
    }
   ],
   "source": [
    "#Seraching\n",
    "a = \"Ram Shyam Gita Sita Nabin Sabin Nita Ram\"\n",
    "name = input(\"Enter name = \")\n",
    "if name in a:\n",
    "    c = a.count(name)\n",
    "    print(\"Yes\",c)\n",
    "else:\n",
    "    print(\"No\")"
   ]
  },
  {
   "cell_type": "code",
   "execution_count": 41,
   "metadata": {},
   "outputs": [
    {
     "data": {
      "text/plain": [
       "'RAM SHYAM GITA SITA NABIN SABIN NITA RAM'"
      ]
     },
     "execution_count": 41,
     "metadata": {},
     "output_type": "execute_result"
    }
   ],
   "source": [
    "a = \"Ram Shyam Gita Sita Nabin Sabin Nita Ram\"\n",
    "a.upper()"
   ]
  },
  {
   "cell_type": "code",
   "execution_count": 42,
   "metadata": {},
   "outputs": [
    {
     "data": {
      "text/plain": [
       "'ram shyam gita sita nabin sabin nita ram'"
      ]
     },
     "execution_count": 42,
     "metadata": {},
     "output_type": "execute_result"
    }
   ],
   "source": [
    "a = \"Ram Shyam Gita Sita Nabin Sabin Nita Ram\"\n",
    "a.lower()\n"
   ]
  },
  {
   "cell_type": "code",
   "execution_count": 50,
   "metadata": {},
   "outputs": [
    {
     "name": "stdout",
     "output_type": "stream",
     "text": [
      "Enter name = ram\n",
      "Yes 2\n"
     ]
    }
   ],
   "source": [
    "#Seraching\n",
    "a = \"Ram Shyam Gita Sita Nabin Sabin Nita Ram\".lower()\n",
    "name = input(\"Enter name = \").lower()\n",
    "if name in a:\n",
    "    c = a.count(name)\n",
    "    print(\"Yes\",c)\n",
    "else:\n",
    "    print(\"No\")"
   ]
  },
  {
   "cell_type": "code",
   "execution_count": 53,
   "metadata": {},
   "outputs": [
    {
     "name": "stdout",
     "output_type": "stream",
     "text": [
      "Rama Shyam Gita Sita Nabin Sabin Nita Rama\n",
      "Ram Shyam Gita Sita Nabin Sabin Nita Ram\n"
     ]
    }
   ],
   "source": [
    "#Update replace\n",
    "# String->Imutable\n",
    "a = \"Ram Shyam Gita Sita Nabin Sabin Nita Ram\"\n",
    "b = a.replace(\"Ram\",\"Rama\")\n",
    "print(b)\n",
    "print(a)"
   ]
  },
  {
   "cell_type": "code",
   "execution_count": 54,
   "metadata": {},
   "outputs": [
    {
     "name": "stdout",
     "output_type": "stream",
     "text": [
      " Shyam Gita Sita Nabin Sabin Nita \n"
     ]
    }
   ],
   "source": [
    "a = \"Ram Shyam Gita Sita Nabin Sabin Nita Ram\"\n",
    "b = a.replace(\"Ram\",\"\")\n",
    "print(b)"
   ]
  },
  {
   "cell_type": "code",
   "execution_count": 55,
   "metadata": {},
   "outputs": [
    {
     "data": {
      "text/plain": [
       "['Ram', 'Shyam', 'Gita', 'Sita', 'Nabin', 'Sabin', 'Nita', 'Ram']"
      ]
     },
     "execution_count": 55,
     "metadata": {},
     "output_type": "execute_result"
    }
   ],
   "source": [
    "a = \"Ram Shyam Gita Sita Nabin Sabin Nita Ram\"\n",
    "a.split()"
   ]
  },
  {
   "cell_type": "code",
   "execution_count": null,
   "metadata": {},
   "outputs": [],
   "source": [
    "# WAP to create result management system of a class"
   ]
  }
 ],
 "metadata": {
  "kernelspec": {
   "display_name": "Python 3 (ipykernel)",
   "language": "python",
   "name": "python3"
  },
  "language_info": {
   "codemirror_mode": {
    "name": "ipython",
    "version": 3
   },
   "file_extension": ".py",
   "mimetype": "text/x-python",
   "name": "python",
   "nbconvert_exporter": "python",
   "pygments_lexer": "ipython3",
   "version": "3.7.1"
  }
 },
 "nbformat": 4,
 "nbformat_minor": 2
}
